{
 "cells": [
  {
   "cell_type": "code",
   "execution_count": 1,
   "id": "953be122",
   "metadata": {},
   "outputs": [
    {
     "ename": "NameError",
     "evalue": "name 'X' is not defined",
     "output_type": "error",
     "traceback": [
      "\u001b[0;31m---------------------------------------------------------------------------\u001b[0m",
      "\u001b[0;31mNameError\u001b[0m                                 Traceback (most recent call last)",
      "Cell \u001b[0;32mIn[1], line 9\u001b[0m\n\u001b[1;32m      5\u001b[0m readout \u001b[38;5;241m=\u001b[39m Ridge(ridge\u001b[38;5;241m=\u001b[39m\u001b[38;5;241m1e-6\u001b[39m)\n\u001b[1;32m      7\u001b[0m esn \u001b[38;5;241m=\u001b[39m data \u001b[38;5;241m>>\u001b[39m reservoir \u001b[38;5;241m>>\u001b[39m readout\n\u001b[0;32m----> 9\u001b[0m forecast \u001b[38;5;241m=\u001b[39m esn\u001b[38;5;241m.\u001b[39mfit(X, y)\u001b[38;5;241m.\u001b[39mrun(timeseries)\n",
      "\u001b[0;31mNameError\u001b[0m: name 'X' is not defined"
     ]
    }
   ],
   "source": [
    "from reservoirpy.nodes import Reservoir, Ridge, Input\n",
    "\n",
    "data = Input(input_dim=1)\n",
    "reservoir = Reservoir(100, lr=0.3, sr=1.1)\n",
    "readout = Ridge(ridge=1e-6)\n",
    "\n",
    "esn = data >> reservoir >> readout\n",
    "\n",
    "forecast = esn.fit(X, y).run(timeseries)"
   ]
  },
  {
   "cell_type": "code",
   "execution_count": null,
   "id": "7e422076",
   "metadata": {},
   "outputs": [],
   "source": []
  }
 ],
 "metadata": {
  "kernelspec": {
   "display_name": "Python 3 (ipykernel)",
   "language": "python",
   "name": "python3"
  },
  "language_info": {
   "codemirror_mode": {
    "name": "ipython",
    "version": 3
   },
   "file_extension": ".py",
   "mimetype": "text/x-python",
   "name": "python",
   "nbconvert_exporter": "python",
   "pygments_lexer": "ipython3",
   "version": "3.11.7"
  }
 },
 "nbformat": 4,
 "nbformat_minor": 5
}
