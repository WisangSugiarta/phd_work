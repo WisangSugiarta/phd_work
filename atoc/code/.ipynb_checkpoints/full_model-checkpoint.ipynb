{
 "cells": [
  {
   "cell_type": "code",
   "execution_count": 1,
   "id": "ced1d862",
   "metadata": {},
   "outputs": [],
   "source": [
    "import numpy as np\n",
    "import pandas as pd\n",
    "from sklearn.preprocessing import StandardScaler\n",
    "from sklearn.linear_model import LogisticRegression\n",
    "from sklearn.metrics import accuracy_score, precision_score, recall_score, f1_score\n",
    "from reservoirpy.nodes import Reservoir\n",
    "from sklearn.model_selection import train_test_split\n",
    "from sklearn.metrics import classification_report as creport\n",
    "from imblearn.over_sampling import SMOTE "
   ]
  },
  {
   "cell_type": "code",
   "execution_count": 2,
   "id": "38a8471d",
   "metadata": {},
   "outputs": [],
   "source": [
    "def one_hot_encode(df, drop_original=True, prefix_sep=\"_\"):\n",
    "\n",
    "    non_numeric_cols = df.select_dtypes(exclude=[\"number\"]).columns.tolist()\n",
    "    \n",
    "    if not non_numeric_cols:\n",
    "        return df.copy()  # No categorical columns to encode\n",
    "\n",
    "    df_encoded = pd.get_dummies(df, columns=non_numeric_cols, prefix_sep=prefix_sep)\n",
    "\n",
    "    return df_encoded\n"
   ]
  },
  {
   "cell_type": "code",
   "execution_count": 3,
   "id": "e8657f09",
   "metadata": {},
   "outputs": [],
   "source": [
    "df = pd.read_csv('data/clean_df.csv')"
   ]
  },
  {
   "cell_type": "code",
   "execution_count": 4,
   "id": "21603f5d",
   "metadata": {},
   "outputs": [],
   "source": [
    "df.drop(['high_wind_event'], axis=1, inplace=True)\n",
    "df = one_hot_encode(df)\n",
    "df_y = df['ext_gust_12h']\n",
    "df_x = df.drop(['ext_gust_12h'], axis=1)"
   ]
  },
  {
   "cell_type": "code",
   "execution_count": 5,
   "id": "894139cf",
   "metadata": {},
   "outputs": [],
   "source": [
    "X_train, X_test, y_train, y_test = train_test_split(df_x, df_y, test_size=0.15, random_state=42)\n",
    "\n",
    "scaler_X = StandardScaler()\n",
    "X_train = scaler_X.fit_transform(X_train)\n",
    "X_test = scaler_X.transform(X_test)"
   ]
  },
  {
   "cell_type": "code",
   "execution_count": null,
   "id": "a06992f5",
   "metadata": {},
   "outputs": [],
   "source": [
    "# base\n",
    "from xgboost import XGBClassifier\n",
    "\n",
    "xgb_model = XGBClassifier(n_estimators=2, max_depth=2, learning_rate=1, objective='binary:logistic')\n",
    "xgb_model.fit(X_train, y_train)\n",
    "\n",
    "y_pred = xgb_model.predict(X_test)"
   ]
  },
  {
   "cell_type": "code",
   "execution_count": 6,
   "id": "bfe7ab78",
   "metadata": {},
   "outputs": [
    {
     "name": "stderr",
     "output_type": "stream",
     "text": [
      "Running Reservoir-0: 100%|██████████████████████████████████████████████████████████| 22727/22727 [03:16<00:00, 115.80it/s]\n",
      "/opt/anaconda3/lib/python3.11/site-packages/sklearn/linear_model/_logistic.py:458: ConvergenceWarning: lbfgs failed to converge (status=1):\n",
      "STOP: TOTAL NO. of ITERATIONS REACHED LIMIT.\n",
      "\n",
      "Increase the number of iterations (max_iter) or scale the data as shown in:\n",
      "    https://scikit-learn.org/stable/modules/preprocessing.html\n",
      "Please also refer to the documentation for alternative solver options:\n",
      "    https://scikit-learn.org/stable/modules/linear_model.html#logistic-regression\n",
      "  n_iter_i = _check_optimize_result(\n",
      "Running Reservoir-0: 100%|████████████████████████████████████████████████████████████| 4011/4011 [00:34<00:00, 115.46it/s]\n"
     ]
    },
    {
     "name": "stdout",
     "output_type": "stream",
     "text": [
      "              precision    recall  f1-score   support\n",
      "\n",
      "           0       1.00      1.00      1.00      3669\n",
      "           1       0.97      0.97      0.97       342\n",
      "\n",
      "    accuracy                           0.99      4011\n",
      "   macro avg       0.98      0.98      0.98      4011\n",
      "weighted avg       0.99      0.99      0.99      4011\n",
      "\n"
     ]
    }
   ],
   "source": [
    "reservoir = Reservoir(units=5000, sr=0.8)  \n",
    "X_train_reservoir = reservoir.run(X_train)  \n",
    "\n",
    "classifier = LogisticRegression()\n",
    "classifier.fit(X_train_reservoir, y_train)\n",
    "\n",
    "X_test_reservoir = reservoir.run(X_test)\n",
    "y_pred_probs = classifier.predict_proba(X_test_reservoir)[:, 1] \n",
    "y_pred = (y_pred_probs > 0.5).astype(int) \n",
    "\n",
    "accuracy = accuracy_score(y_test, y_pred)\n",
    "precision = precision_score(y_test, y_pred)\n",
    "recall = recall_score(y_test, y_pred)\n",
    "f1 = f1_score(y_test, y_pred)\n",
    "\n",
    "print(creport(y_test, y_pred))"
   ]
  },
  {
   "cell_type": "code",
   "execution_count": 7,
   "id": "016e8428",
   "metadata": {},
   "outputs": [],
   "source": [
    "# let's try with SMOTE"
   ]
  },
  {
   "cell_type": "code",
   "execution_count": 8,
   "id": "c104ac51",
   "metadata": {},
   "outputs": [],
   "source": [
    "X_train, X_test, y_train, y_test = train_test_split(df_x, df_y, test_size=0.15, random_state=42)"
   ]
  },
  {
   "cell_type": "code",
   "execution_count": 9,
   "id": "0c9251ea",
   "metadata": {},
   "outputs": [],
   "source": [
    "oversample = SMOTE(random_state=1234, sampling_strategy=0.5)\n",
    "\n",
    "X_train, y_train = oversample.fit_resample(X_train, y_train) "
   ]
  },
  {
   "cell_type": "code",
   "execution_count": 10,
   "id": "f32bbfdc",
   "metadata": {},
   "outputs": [
    {
     "name": "stderr",
     "output_type": "stream",
     "text": [
      "Running Reservoir-1: 100%|██████████████████████████████████████████████████████████| 31200/31200 [04:33<00:00, 114.08it/s]\n",
      "/opt/anaconda3/lib/python3.11/site-packages/sklearn/linear_model/_logistic.py:458: ConvergenceWarning: lbfgs failed to converge (status=1):\n",
      "STOP: TOTAL NO. of ITERATIONS REACHED LIMIT.\n",
      "\n",
      "Increase the number of iterations (max_iter) or scale the data as shown in:\n",
      "    https://scikit-learn.org/stable/modules/preprocessing.html\n",
      "Please also refer to the documentation for alternative solver options:\n",
      "    https://scikit-learn.org/stable/modules/linear_model.html#logistic-regression\n",
      "  n_iter_i = _check_optimize_result(\n",
      "Running Reservoir-1: 100%|████████████████████████████████████████████████████████████| 4011/4011 [00:34<00:00, 114.85it/s]"
     ]
    },
    {
     "name": "stdout",
     "output_type": "stream",
     "text": [
      "              precision    recall  f1-score   support\n",
      "\n",
      "           0       1.00      1.00      1.00      3669\n",
      "           1       0.97      0.98      0.97       342\n",
      "\n",
      "    accuracy                           1.00      4011\n",
      "   macro avg       0.98      0.99      0.99      4011\n",
      "weighted avg       1.00      1.00      1.00      4011\n",
      "\n"
     ]
    },
    {
     "name": "stderr",
     "output_type": "stream",
     "text": [
      "\n"
     ]
    }
   ],
   "source": [
    "scaler_X = StandardScaler()\n",
    "\n",
    "X_train = scaler_X.fit_transform(X_train)\n",
    "X_test = scaler_X.transform(X_test)\n",
    "\n",
    "reservoir = Reservoir(units=5000, sr=0.8)  \n",
    "X_train_reservoir = reservoir.run(X_train)  \n",
    "\n",
    "classifier = LogisticRegression()\n",
    "classifier.fit(X_train_reservoir, y_train)\n",
    "\n",
    "X_test_reservoir = reservoir.run(X_test)\n",
    "y_pred_probs = classifier.predict_proba(X_test_reservoir)[:, 1] \n",
    "y_pred = (y_pred_probs > 0.5).astype(int) \n",
    "\n",
    "accuracy = accuracy_score(y_test, y_pred)\n",
    "precision = precision_score(y_test, y_pred)\n",
    "recall = recall_score(y_test, y_pred)\n",
    "f1 = f1_score(y_test, y_pred)\n",
    "\n",
    "print(creport(y_test, y_pred))"
   ]
  },
  {
   "cell_type": "code",
   "execution_count": 11,
   "id": "12a1c989",
   "metadata": {},
   "outputs": [
    {
     "name": "stdout",
     "output_type": "stream",
     "text": [
      "[[3657   12]\n",
      " [   6  336]]\n"
     ]
    }
   ],
   "source": [
    "from sklearn.metrics import confusion_matrix as cmatrix\n",
    "print(cmatrix(y_test, y_pred))"
   ]
  },
  {
   "cell_type": "code",
   "execution_count": 13,
   "id": "930ff2b5",
   "metadata": {},
   "outputs": [],
   "source": [
    "with open(\"column_names.txt\", \"w\") as f:\n",
    "    for col in df_x.columns:\n",
    "        f.write(f\"{col}\\n\")"
   ]
  },
  {
   "cell_type": "code",
   "execution_count": null,
   "id": "6d3f99ac",
   "metadata": {},
   "outputs": [],
   "source": []
  }
 ],
 "metadata": {
  "kernelspec": {
   "display_name": "Python 3 (ipykernel)",
   "language": "python",
   "name": "python3"
  },
  "language_info": {
   "codemirror_mode": {
    "name": "ipython",
    "version": 3
   },
   "file_extension": ".py",
   "mimetype": "text/x-python",
   "name": "python",
   "nbconvert_exporter": "python",
   "pygments_lexer": "ipython3",
   "version": "3.11.8"
  }
 },
 "nbformat": 4,
 "nbformat_minor": 5
}
