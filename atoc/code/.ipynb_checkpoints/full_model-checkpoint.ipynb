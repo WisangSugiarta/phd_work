{
 "cells": [
  {
   "cell_type": "code",
   "execution_count": 1,
   "id": "ced1d862",
   "metadata": {},
   "outputs": [],
   "source": [
    "import numpy as np\n",
    "import pandas as pd\n",
    "from sklearn.preprocessing import StandardScaler\n",
    "from sklearn.linear_model import LogisticRegression\n",
    "from sklearn.metrics import accuracy_score, precision_score, recall_score, f1_score\n",
    "from reservoirpy.nodes import Reservoir\n",
    "from sklearn.model_selection import train_test_split\n",
    "from sklearn.metrics import classification_report as creport\n",
    "from imblearn.over_sampling import SMOTE \n",
    "import shap\n",
    "from xgboost import XGBClassifier"
   ]
  },
  {
   "cell_type": "code",
   "execution_count": 2,
   "id": "38a8471d",
   "metadata": {},
   "outputs": [],
   "source": [
    "def one_hot_encode(df, drop_original=True, prefix_sep=\"_\"):\n",
    "\n",
    "    non_numeric_cols = df.select_dtypes(exclude=[\"number\"]).columns.tolist()\n",
    "    \n",
    "    if not non_numeric_cols:\n",
    "        return df.copy()\n",
    "\n",
    "    df_encoded = pd.get_dummies(df, columns=non_numeric_cols, prefix_sep=prefix_sep)\n",
    "\n",
    "    return df_encoded\n"
   ]
  },
  {
   "cell_type": "markdown",
   "id": "c4d07440",
   "metadata": {},
   "source": [
    "### 12 Hours"
   ]
  },
  {
   "cell_type": "code",
   "execution_count": 3,
   "id": "977e11b0",
   "metadata": {},
   "outputs": [],
   "source": [
    "df = pd.read_csv('data/clean_df.csv')\n",
    "df['date'] = pd.to_datetime(df['date'])\n",
    "df['time'] = (df['date'] - df['date'].min()).dt.total_seconds() / 3600"
   ]
  },
  {
   "cell_type": "code",
   "execution_count": 4,
   "id": "21603f5d",
   "metadata": {},
   "outputs": [],
   "source": [
    "df.drop(['high_wind_event','valid_time','date'], axis=1, inplace=True)\n",
    "df.drop(['ext_gust_window_48','ext_gust_window_72','ext_gust_window_168'], axis=1, inplace=True)\n",
    "df = one_hot_encode(df)\n",
    "df_y = df['ext_gust_window_12']\n",
    "df_x = df.drop(['ext_gust_window_12'], axis=1)"
   ]
  },
  {
   "cell_type": "code",
   "execution_count": 5,
   "id": "894139cf",
   "metadata": {},
   "outputs": [],
   "source": [
    "X_train, X_test, y_train, y_test = train_test_split(df_x, df_y, test_size=0.20, random_state=42)\n",
    "\n",
    "scaler_X = StandardScaler()\n",
    "X_train = scaler_X.fit_transform(X_train)\n",
    "X_test = scaler_X.transform(X_test)"
   ]
  },
  {
   "cell_type": "code",
   "execution_count": 6,
   "id": "a06992f5",
   "metadata": {},
   "outputs": [
    {
     "name": "stdout",
     "output_type": "stream",
     "text": [
      "              precision    recall  f1-score   support\n",
      "\n",
      "           0       0.96      0.99      0.97      5068\n",
      "           1       0.52      0.21      0.30       280\n",
      "\n",
      "    accuracy                           0.95      5348\n",
      "   macro avg       0.74      0.60      0.64      5348\n",
      "weighted avg       0.93      0.95      0.94      5348\n",
      "\n"
     ]
    }
   ],
   "source": [
    "# base\n",
    "\n",
    "xgb_model = XGBClassifier(n_estimators=2, max_depth=2, learning_rate=1, objective='binary:logistic')\n",
    "xgb_model.fit(X_train, y_train)\n",
    "\n",
    "y_pred = xgb_model.predict(X_test)\n",
    "print(creport(y_test, y_pred))"
   ]
  },
  {
   "cell_type": "code",
   "execution_count": 7,
   "id": "bfe7ab78",
   "metadata": {},
   "outputs": [
    {
     "name": "stderr",
     "output_type": "stream",
     "text": [
      "Running Reservoir-0: 100%|██████████████████████████████████████████████████████████| 21390/21390 [00:40<00:00, 526.69it/s]\n",
      "/opt/anaconda3/lib/python3.11/site-packages/sklearn/linear_model/_logistic.py:458: ConvergenceWarning: lbfgs failed to converge (status=1):\n",
      "STOP: TOTAL NO. of ITERATIONS REACHED LIMIT.\n",
      "\n",
      "Increase the number of iterations (max_iter) or scale the data as shown in:\n",
      "    https://scikit-learn.org/stable/modules/preprocessing.html\n",
      "Please also refer to the documentation for alternative solver options:\n",
      "    https://scikit-learn.org/stable/modules/linear_model.html#logistic-regression\n",
      "  n_iter_i = _check_optimize_result(\n",
      "Running Reservoir-0: 100%|████████████████████████████████████████████████████████████| 5348/5348 [00:10<00:00, 509.00it/s]"
     ]
    },
    {
     "name": "stdout",
     "output_type": "stream",
     "text": [
      "              precision    recall  f1-score   support\n",
      "\n",
      "           0       1.00      1.00      1.00      5068\n",
      "           1       0.93      0.95      0.94       280\n",
      "\n",
      "    accuracy                           0.99      5348\n",
      "   macro avg       0.96      0.97      0.97      5348\n",
      "weighted avg       0.99      0.99      0.99      5348\n",
      "\n"
     ]
    },
    {
     "name": "stderr",
     "output_type": "stream",
     "text": [
      "\n"
     ]
    }
   ],
   "source": [
    "reservoir = Reservoir(units=5000, sr=0.8)  \n",
    "X_train_reservoir = reservoir.run(X_train, reset=True)  \n",
    "\n",
    "classifier = LogisticRegression()\n",
    "classifier.fit(X_train_reservoir, y_train)\n",
    "\n",
    "X_test_reservoir = reservoir.run(X_test, reset=True)\n",
    "y_pred_probs = classifier.predict_proba(X_test_reservoir)[:, 1] \n",
    "y_pred = (y_pred_probs > 0.5).astype(int) \n",
    "\n",
    "accuracy = accuracy_score(y_test, y_pred)\n",
    "precision = precision_score(y_test, y_pred)\n",
    "recall = recall_score(y_test, y_pred)\n",
    "f1 = f1_score(y_test, y_pred)\n",
    "\n",
    "print(creport(y_test, y_pred))"
   ]
  },
  {
   "cell_type": "code",
   "execution_count": null,
   "id": "fe0c34a8",
   "metadata": {},
   "outputs": [],
   "source": [
    "reservoir = Reservoir(100, lr=0.5, sr=0.9)\n",
    "readout = Ridge(ridge=1e-7)\n",
    "\n",
    "esn_model = reservoir >> readout\n",
    "\n",
    "esn_model = esn_model.fit(X_train, Y_train, warmup=10)\n",
    "\n",
    "Y_pred = esn_model.run(X_test)"
   ]
  },
  {
   "cell_type": "code",
   "execution_count": 8,
   "id": "11b87d8d",
   "metadata": {},
   "outputs": [],
   "source": [
    "### 48 Hours"
   ]
  },
  {
   "cell_type": "code",
   "execution_count": 9,
   "id": "d98077b8",
   "metadata": {},
   "outputs": [],
   "source": [
    "df = pd.read_csv('data/clean_df.csv')\n",
    "df['date'] = pd.to_datetime(df['date'])\n",
    "df['time'] = (df['date'] - df['date'].min()).dt.total_seconds() / 3600\n",
    "\n",
    "df.drop(['high_wind_event','valid_time','date'], axis=1, inplace=True)\n",
    "df.drop(['ext_gust_window_12','ext_gust_window_72','ext_gust_window_168'], axis=1, inplace=True)\n",
    "df = one_hot_encode(df)\n",
    "df_y = df['ext_gust_window_48']\n",
    "df_x = df.drop(['ext_gust_window_48'], axis=1)"
   ]
  },
  {
   "cell_type": "code",
   "execution_count": 10,
   "id": "8c23485e",
   "metadata": {},
   "outputs": [],
   "source": [
    "X_train, X_test, y_train, y_test = train_test_split(df_x, df_y, test_size=0.20, random_state=42)\n",
    "\n",
    "scaler_X = StandardScaler()\n",
    "X_train = scaler_X.fit_transform(X_train)\n",
    "X_test = scaler_X.transform(X_test)"
   ]
  },
  {
   "cell_type": "code",
   "execution_count": 11,
   "id": "b35eae75",
   "metadata": {},
   "outputs": [
    {
     "name": "stderr",
     "output_type": "stream",
     "text": [
      "Running Reservoir-1: 100%|██████████████████████████████████████████████████████████| 21390/21390 [00:41<00:00, 512.70it/s]\n",
      "/opt/anaconda3/lib/python3.11/site-packages/sklearn/linear_model/_logistic.py:458: ConvergenceWarning: lbfgs failed to converge (status=1):\n",
      "STOP: TOTAL NO. of ITERATIONS REACHED LIMIT.\n",
      "\n",
      "Increase the number of iterations (max_iter) or scale the data as shown in:\n",
      "    https://scikit-learn.org/stable/modules/preprocessing.html\n",
      "Please also refer to the documentation for alternative solver options:\n",
      "    https://scikit-learn.org/stable/modules/linear_model.html#logistic-regression\n",
      "  n_iter_i = _check_optimize_result(\n",
      "Running Reservoir-1: 100%|████████████████████████████████████████████████████████████| 5348/5348 [00:10<00:00, 511.15it/s]\n"
     ]
    },
    {
     "name": "stdout",
     "output_type": "stream",
     "text": [
      "              precision    recall  f1-score   support\n",
      "\n",
      "           0       1.00      1.00      1.00      5024\n",
      "           1       0.96      0.94      0.95       324\n",
      "\n",
      "    accuracy                           0.99      5348\n",
      "   macro avg       0.98      0.97      0.97      5348\n",
      "weighted avg       0.99      0.99      0.99      5348\n",
      "\n"
     ]
    }
   ],
   "source": [
    "reservoir = Reservoir(units=5000, sr=0.8)  \n",
    "X_train_reservoir = reservoir.run(X_train, reset=True)  \n",
    "\n",
    "classifier = LogisticRegression()\n",
    "classifier.fit(X_train_reservoir, y_train)\n",
    "\n",
    "X_test_reservoir = reservoir.run(X_test, reset=True)\n",
    "y_pred_probs = classifier.predict_proba(X_test_reservoir)[:, 1] \n",
    "y_pred = (y_pred_probs > 0.5).astype(int) \n",
    "\n",
    "accuracy = accuracy_score(y_test, y_pred)\n",
    "precision = precision_score(y_test, y_pred)\n",
    "recall = recall_score(y_test, y_pred)\n",
    "f1 = f1_score(y_test, y_pred)\n",
    "\n",
    "print(creport(y_test, y_pred))"
   ]
  },
  {
   "cell_type": "code",
   "execution_count": 12,
   "id": "cf1781c0",
   "metadata": {},
   "outputs": [],
   "source": [
    "### 72 Hours"
   ]
  },
  {
   "cell_type": "code",
   "execution_count": 13,
   "id": "bb1004cf",
   "metadata": {},
   "outputs": [],
   "source": [
    "df = pd.read_csv('data/clean_df.csv')\n",
    "df['date'] = pd.to_datetime(df['date'])\n",
    "df['time'] = (df['date'] - df['date'].min()).dt.total_seconds() / 3600\n",
    "\n",
    "df.drop(['high_wind_event','valid_time','date'], axis=1, inplace=True)\n",
    "df.drop(['ext_gust_window_12','ext_gust_window_48','ext_gust_window_168'], axis=1, inplace=True)\n",
    "df = one_hot_encode(df)\n",
    "df_y = df['ext_gust_window_72']\n",
    "df_x = df.drop(['ext_gust_window_72'], axis=1)"
   ]
  },
  {
   "cell_type": "code",
   "execution_count": 14,
   "id": "39a62d82",
   "metadata": {},
   "outputs": [],
   "source": [
    "X_train, X_test, y_train, y_test = train_test_split(df_x, df_y, test_size=0.20, random_state=42)\n",
    "\n",
    "scaler_X = StandardScaler()\n",
    "X_train = scaler_X.fit_transform(X_train)\n",
    "X_test = scaler_X.transform(X_test)"
   ]
  },
  {
   "cell_type": "code",
   "execution_count": 15,
   "id": "1fa7fb08",
   "metadata": {},
   "outputs": [
    {
     "name": "stderr",
     "output_type": "stream",
     "text": [
      "Running Reservoir-2:  54%|███████████████████████████████                           | 11468/21390 [00:22<00:19, 519.03it/s]\n"
     ]
    },
    {
     "ename": "KeyboardInterrupt",
     "evalue": "",
     "output_type": "error",
     "traceback": [
      "\u001b[0;31m---------------------------------------------------------------------------\u001b[0m",
      "\u001b[0;31mKeyboardInterrupt\u001b[0m                         Traceback (most recent call last)",
      "Cell \u001b[0;32mIn[15], line 2\u001b[0m\n\u001b[1;32m      1\u001b[0m reservoir \u001b[38;5;241m=\u001b[39m Reservoir(units\u001b[38;5;241m=\u001b[39m\u001b[38;5;241m5000\u001b[39m, sr\u001b[38;5;241m=\u001b[39m\u001b[38;5;241m0.8\u001b[39m)  \n\u001b[0;32m----> 2\u001b[0m X_train_reservoir \u001b[38;5;241m=\u001b[39m reservoir\u001b[38;5;241m.\u001b[39mrun(X_train, reset\u001b[38;5;241m=\u001b[39m\u001b[38;5;28;01mTrue\u001b[39;00m)  \n\u001b[1;32m      4\u001b[0m classifier \u001b[38;5;241m=\u001b[39m LogisticRegression()\n\u001b[1;32m      5\u001b[0m classifier\u001b[38;5;241m.\u001b[39mfit(X_train_reservoir, y_train)\n",
      "File \u001b[0;32m/opt/anaconda3/lib/python3.11/site-packages/reservoirpy/node.py:948\u001b[0m, in \u001b[0;36mNode.run\u001b[0;34m(self, X, from_state, stateful, reset)\u001b[0m\n\u001b[1;32m    945\u001b[0m         \u001b[38;5;28;01melse\u001b[39;00m:\n\u001b[1;32m    946\u001b[0m             x \u001b[38;5;241m=\u001b[39m np\u001b[38;5;241m.\u001b[39matleast_2d(X_[i])\n\u001b[0;32m--> 948\u001b[0m         s \u001b[38;5;241m=\u001b[39m call(\u001b[38;5;28mself\u001b[39m, x)\n\u001b[1;32m    949\u001b[0m         states[i, :] \u001b[38;5;241m=\u001b[39m s\n\u001b[1;32m    951\u001b[0m \u001b[38;5;28;01mreturn\u001b[39;00m states\n",
      "File \u001b[0;32m/opt/anaconda3/lib/python3.11/site-packages/reservoirpy/_base.py:527\u001b[0m, in \u001b[0;36mcall\u001b[0;34m(node, x, from_state, stateful, reset)\u001b[0m\n\u001b[1;32m    525\u001b[0m \u001b[38;5;250m\u001b[39m\u001b[38;5;124;03m\"\"\"One-step call, without input check.\"\"\"\u001b[39;00m\n\u001b[1;32m    526\u001b[0m \u001b[38;5;28;01mwith\u001b[39;00m node\u001b[38;5;241m.\u001b[39mwith_state(from_state, stateful\u001b[38;5;241m=\u001b[39mstateful, reset\u001b[38;5;241m=\u001b[39mreset):\n\u001b[0;32m--> 527\u001b[0m     state \u001b[38;5;241m=\u001b[39m node\u001b[38;5;241m.\u001b[39m_forward(node, x)\n\u001b[1;32m    528\u001b[0m     node\u001b[38;5;241m.\u001b[39m_state \u001b[38;5;241m=\u001b[39m state\u001b[38;5;241m.\u001b[39mastype(node\u001b[38;5;241m.\u001b[39mdtype)\n\u001b[1;32m    529\u001b[0m     node\u001b[38;5;241m.\u001b[39m_flag_feedback()\n",
      "File \u001b[0;32m/opt/anaconda3/lib/python3.11/site-packages/reservoirpy/nodes/reservoirs/base.py:59\u001b[0m, in \u001b[0;36mforward_internal\u001b[0;34m(reservoir, x)\u001b[0m\n\u001b[1;32m     54\u001b[0m u \u001b[38;5;241m=\u001b[39m x\u001b[38;5;241m.\u001b[39mreshape(\u001b[38;5;241m-\u001b[39m\u001b[38;5;241m1\u001b[39m, \u001b[38;5;241m1\u001b[39m)\n\u001b[1;32m     55\u001b[0m r \u001b[38;5;241m=\u001b[39m reservoir\u001b[38;5;241m.\u001b[39mstate()\u001b[38;5;241m.\u001b[39mT\n\u001b[1;32m     57\u001b[0m s_next \u001b[38;5;241m=\u001b[39m (\n\u001b[1;32m     58\u001b[0m     np\u001b[38;5;241m.\u001b[39mmultiply((\u001b[38;5;241m1\u001b[39m \u001b[38;5;241m-\u001b[39m lr), r\u001b[38;5;241m.\u001b[39mT)\u001b[38;5;241m.\u001b[39mT\n\u001b[0;32m---> 59\u001b[0m     \u001b[38;5;241m+\u001b[39m np\u001b[38;5;241m.\u001b[39mmultiply(lr, f(reservoir_kernel(reservoir, u, r))\u001b[38;5;241m.\u001b[39mT)\u001b[38;5;241m.\u001b[39mT\n\u001b[1;32m     60\u001b[0m     \u001b[38;5;241m+\u001b[39m noise_gen(dist\u001b[38;5;241m=\u001b[39mdist, shape\u001b[38;5;241m=\u001b[39mr\u001b[38;5;241m.\u001b[39mshape, gain\u001b[38;5;241m=\u001b[39mg_rc)\n\u001b[1;32m     61\u001b[0m )\n\u001b[1;32m     63\u001b[0m \u001b[38;5;28;01mreturn\u001b[39;00m s_next\u001b[38;5;241m.\u001b[39mT\n",
      "File \u001b[0;32m/opt/anaconda3/lib/python3.11/site-packages/reservoirpy/nodes/reservoirs/base.py:23\u001b[0m, in \u001b[0;36mreservoir_kernel\u001b[0;34m(reservoir, u, r)\u001b[0m\n\u001b[1;32m     20\u001b[0m dist \u001b[38;5;241m=\u001b[39m reservoir\u001b[38;5;241m.\u001b[39mnoise_type\n\u001b[1;32m     21\u001b[0m noise_gen \u001b[38;5;241m=\u001b[39m reservoir\u001b[38;5;241m.\u001b[39mnoise_generator\n\u001b[0;32m---> 23\u001b[0m pre_s \u001b[38;5;241m=\u001b[39m W \u001b[38;5;241m@\u001b[39m r \u001b[38;5;241m+\u001b[39m Win \u001b[38;5;241m@\u001b[39m (u \u001b[38;5;241m+\u001b[39m noise_gen(dist\u001b[38;5;241m=\u001b[39mdist, shape\u001b[38;5;241m=\u001b[39mu\u001b[38;5;241m.\u001b[39mshape, gain\u001b[38;5;241m=\u001b[39mg_in)) \u001b[38;5;241m+\u001b[39m bias\n\u001b[1;32m     25\u001b[0m \u001b[38;5;28;01mif\u001b[39;00m reservoir\u001b[38;5;241m.\u001b[39mhas_feedback:\n\u001b[1;32m     26\u001b[0m     Wfb \u001b[38;5;241m=\u001b[39m reservoir\u001b[38;5;241m.\u001b[39mWfb\n",
      "File \u001b[0;32m/opt/anaconda3/lib/python3.11/site-packages/scipy/sparse/_base.py:624\u001b[0m, in \u001b[0;36m_spbase.__matmul__\u001b[0;34m(self, other)\u001b[0m\n\u001b[1;32m    621\u001b[0m \u001b[38;5;28;01mif\u001b[39;00m isscalarlike(other):\n\u001b[1;32m    622\u001b[0m     \u001b[38;5;28;01mraise\u001b[39;00m \u001b[38;5;167;01mValueError\u001b[39;00m(\u001b[38;5;124m\"\u001b[39m\u001b[38;5;124mScalar operands are not allowed, \u001b[39m\u001b[38;5;124m\"\u001b[39m\n\u001b[1;32m    623\u001b[0m                      \u001b[38;5;124m\"\u001b[39m\u001b[38;5;124muse \u001b[39m\u001b[38;5;124m'\u001b[39m\u001b[38;5;124m*\u001b[39m\u001b[38;5;124m'\u001b[39m\u001b[38;5;124m instead\u001b[39m\u001b[38;5;124m\"\u001b[39m)\n\u001b[0;32m--> 624\u001b[0m \u001b[38;5;28;01mreturn\u001b[39;00m \u001b[38;5;28mself\u001b[39m\u001b[38;5;241m.\u001b[39m_mul_dispatch(other)\n",
      "File \u001b[0;32m/opt/anaconda3/lib/python3.11/site-packages/scipy/sparse/_base.py:524\u001b[0m, in \u001b[0;36m_spbase._mul_dispatch\u001b[0;34m(self, other)\u001b[0m\n\u001b[1;32m    522\u001b[0m     \u001b[38;5;28;01mreturn\u001b[39;00m \u001b[38;5;28mself\u001b[39m\u001b[38;5;241m.\u001b[39m_mul_vector(other)\n\u001b[1;32m    523\u001b[0m \u001b[38;5;28;01melif\u001b[39;00m other\u001b[38;5;241m.\u001b[39mshape \u001b[38;5;241m==\u001b[39m (N, \u001b[38;5;241m1\u001b[39m):\n\u001b[0;32m--> 524\u001b[0m     \u001b[38;5;28;01mreturn\u001b[39;00m \u001b[38;5;28mself\u001b[39m\u001b[38;5;241m.\u001b[39m_mul_vector(other\u001b[38;5;241m.\u001b[39mravel())\u001b[38;5;241m.\u001b[39mreshape(M, \u001b[38;5;241m1\u001b[39m)\n\u001b[1;32m    525\u001b[0m \u001b[38;5;28;01melif\u001b[39;00m other\u001b[38;5;241m.\u001b[39mndim \u001b[38;5;241m==\u001b[39m \u001b[38;5;241m2\u001b[39m \u001b[38;5;129;01mand\u001b[39;00m other\u001b[38;5;241m.\u001b[39mshape[\u001b[38;5;241m0\u001b[39m] \u001b[38;5;241m==\u001b[39m N:\n\u001b[1;32m    526\u001b[0m     \u001b[38;5;28;01mreturn\u001b[39;00m \u001b[38;5;28mself\u001b[39m\u001b[38;5;241m.\u001b[39m_mul_multivector(other)\n",
      "File \u001b[0;32m/opt/anaconda3/lib/python3.11/site-packages/scipy/sparse/_compressed.py:488\u001b[0m, in \u001b[0;36m_cs_matrix._mul_vector\u001b[0;34m(self, other)\u001b[0m\n\u001b[1;32m    486\u001b[0m \u001b[38;5;66;03m# csr_matvec or csc_matvec\u001b[39;00m\n\u001b[1;32m    487\u001b[0m fn \u001b[38;5;241m=\u001b[39m \u001b[38;5;28mgetattr\u001b[39m(_sparsetools, \u001b[38;5;28mself\u001b[39m\u001b[38;5;241m.\u001b[39mformat \u001b[38;5;241m+\u001b[39m \u001b[38;5;124m'\u001b[39m\u001b[38;5;124m_matvec\u001b[39m\u001b[38;5;124m'\u001b[39m)\n\u001b[0;32m--> 488\u001b[0m fn(M, N, \u001b[38;5;28mself\u001b[39m\u001b[38;5;241m.\u001b[39mindptr, \u001b[38;5;28mself\u001b[39m\u001b[38;5;241m.\u001b[39mindices, \u001b[38;5;28mself\u001b[39m\u001b[38;5;241m.\u001b[39mdata, other, result)\n\u001b[1;32m    490\u001b[0m \u001b[38;5;28;01mreturn\u001b[39;00m result\n",
      "\u001b[0;31mKeyboardInterrupt\u001b[0m: "
     ]
    }
   ],
   "source": [
    "reservoir = Reservoir(units=5000, sr=0.8)  \n",
    "X_train_reservoir = reservoir.run(X_train, reset=True)  \n",
    "\n",
    "classifier = LogisticRegression()\n",
    "classifier.fit(X_train_reservoir, y_train)\n",
    "\n",
    "X_test_reservoir = reservoir.run(X_test, reset=True)\n",
    "y_pred_probs = classifier.predict_proba(X_test_reservoir)[:, 1] \n",
    "y_pred = (y_pred_probs > 0.5).astype(int) \n",
    "\n",
    "accuracy = accuracy_score(y_test, y_pred)\n",
    "precision = precision_score(y_test, y_pred)\n",
    "recall = recall_score(y_test, y_pred)\n",
    "f1 = f1_score(y_test, y_pred)\n",
    "\n",
    "print(creport(y_test, y_pred))"
   ]
  },
  {
   "cell_type": "code",
   "execution_count": null,
   "id": "e6cf9ee2",
   "metadata": {},
   "outputs": [],
   "source": [
    "### 168 Hours"
   ]
  },
  {
   "cell_type": "code",
   "execution_count": null,
   "id": "90ce05e2",
   "metadata": {},
   "outputs": [],
   "source": [
    "df = pd.read_csv('data/clean_df.csv')\n",
    "df['date'] = pd.to_datetime(df['date'])\n",
    "df['time'] = (df['date'] - df['date'].min()).dt.total_seconds() / 3600\n",
    "\n",
    "df.drop(['high_wind_event','valid_time','date'], axis=1, inplace=True)\n",
    "df.drop(['ext_gust_window_12','ext_gust_window_48','ext_gust_window_72'], axis=1, inplace=True)\n",
    "df = one_hot_encode(df)\n",
    "df_y = df['ext_gust_window_168']\n",
    "df_x = df.drop(['ext_gust_window_168'], axis=1)"
   ]
  },
  {
   "cell_type": "code",
   "execution_count": null,
   "id": "4d8af844",
   "metadata": {},
   "outputs": [],
   "source": [
    "X_train, X_test, y_train, y_test = train_test_split(df_x, df_y, test_size=0.20, random_state=42)\n",
    "\n",
    "scaler_X = StandardScaler()\n",
    "X_train = scaler_X.fit_transform(X_train)\n",
    "X_test = scaler_X.transform(X_test)"
   ]
  },
  {
   "cell_type": "code",
   "execution_count": null,
   "id": "668dd244",
   "metadata": {},
   "outputs": [],
   "source": [
    "reservoir = Reservoir(units=5000, sr=0.8)  \n",
    "X_train_reservoir = reservoir.run(X_train, reset=True)  \n",
    "\n",
    "classifier = LogisticRegression()\n",
    "classifier.fit(X_train_reservoir, y_train)\n",
    "\n",
    "X_test_reservoir = reservoir.run(X_test, reset=True)\n",
    "y_pred_probs = classifier.predict_proba(X_test_reservoir)[:, 1] \n",
    "y_pred = (y_pred_probs > 0.5).astype(int) \n",
    "\n",
    "accuracy = accuracy_score(y_test, y_pred)\n",
    "precision = precision_score(y_test, y_pred)\n",
    "recall = recall_score(y_test, y_pred)\n",
    "f1 = f1_score(y_test, y_pred)\n",
    "\n",
    "print(creport(y_test, y_pred))"
   ]
  },
  {
   "cell_type": "code",
   "execution_count": null,
   "id": "d413f4d5",
   "metadata": {},
   "outputs": [],
   "source": [
    "corr_matrix = df.corr()"
   ]
  },
  {
   "cell_type": "code",
   "execution_count": null,
   "id": "037dac70",
   "metadata": {},
   "outputs": [],
   "source": [
    "corr_matrix"
   ]
  },
  {
   "cell_type": "code",
   "execution_count": null,
   "id": "f3eb68d7",
   "metadata": {},
   "outputs": [],
   "source": []
  },
  {
   "cell_type": "code",
   "execution_count": null,
   "id": "5bac426c",
   "metadata": {},
   "outputs": [],
   "source": []
  },
  {
   "cell_type": "markdown",
   "id": "bc71b4d2",
   "metadata": {},
   "source": [
    "# let's try with SMOTE"
   ]
  },
  {
   "cell_type": "code",
   "execution_count": null,
   "id": "c104ac51",
   "metadata": {},
   "outputs": [],
   "source": [
    "X_train, X_test, y_train, y_test = train_test_split(df_x, df_y, test_size=0.15, random_state=42)"
   ]
  },
  {
   "cell_type": "code",
   "execution_count": null,
   "id": "0c9251ea",
   "metadata": {},
   "outputs": [],
   "source": [
    "oversample = SMOTE(random_state=1234, sampling_strategy=0.5)\n",
    "\n",
    "X_train, y_train = oversample.fit_resample(X_train, y_train) "
   ]
  },
  {
   "cell_type": "code",
   "execution_count": null,
   "id": "f32bbfdc",
   "metadata": {},
   "outputs": [],
   "source": [
    "scaler_X = StandardScaler()\n",
    "\n",
    "X_train = scaler_X.fit_transform(X_train)\n",
    "X_test = scaler_X.transform(X_test)\n",
    "\n",
    "reservoir = Reservoir(units=5000, sr=0.8)  \n",
    "X_train_reservoir = reservoir.run(X_train)  \n",
    "\n",
    "classifier = LogisticRegression()\n",
    "classifier.fit(X_train_reservoir, y_train)\n",
    "\n",
    "X_test_reservoir = reservoir.run(X_test)\n",
    "y_pred_probs = classifier.predict_proba(X_test_reservoir)[:, 1] \n",
    "y_pred = (y_pred_probs > 0.5).astype(int) \n",
    "\n",
    "accuracy = accuracy_score(y_test, y_pred)\n",
    "precision = precision_score(y_test, y_pred)\n",
    "recall = recall_score(y_test, y_pred)\n",
    "f1 = f1_score(y_test, y_pred)\n",
    "\n",
    "print(creport(y_test, y_pred))"
   ]
  },
  {
   "cell_type": "code",
   "execution_count": null,
   "id": "12a1c989",
   "metadata": {},
   "outputs": [],
   "source": [
    "from sklearn.metrics import confusion_matrix as cmatrix\n",
    "print(cmatrix(y_test, y_pred))"
   ]
  },
  {
   "cell_type": "code",
   "execution_count": null,
   "id": "930ff2b5",
   "metadata": {},
   "outputs": [],
   "source": [
    "with open(\"column_names.txt\", \"w\") as f:\n",
    "    for col in df_x.columns:\n",
    "        f.write(f\"{col}\\n\")"
   ]
  },
  {
   "cell_type": "code",
   "execution_count": null,
   "id": "6d3f99ac",
   "metadata": {},
   "outputs": [],
   "source": []
  }
 ],
 "metadata": {
  "kernelspec": {
   "display_name": "Python 3 (ipykernel)",
   "language": "python",
   "name": "python3"
  },
  "language_info": {
   "codemirror_mode": {
    "name": "ipython",
    "version": 3
   },
   "file_extension": ".py",
   "mimetype": "text/x-python",
   "name": "python",
   "nbconvert_exporter": "python",
   "pygments_lexer": "ipython3",
   "version": "3.11.8"
  }
 },
 "nbformat": 4,
 "nbformat_minor": 5
}
